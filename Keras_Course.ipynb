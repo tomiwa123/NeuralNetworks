{
  "nbformat": 4,
  "nbformat_minor": 0,
  "metadata": {
    "colab": {
      "name": "Keras Course.ipynb",
      "provenance": [],
      "collapsed_sections": []
    },
    "kernelspec": {
      "name": "python3",
      "display_name": "Python 3"
    },
    "language_info": {
      "name": "python"
    }
  },
  "cells": [
    {
      "cell_type": "code",
      "execution_count": 163,
      "metadata": {
        "id": "6FQ0dBBxbBJY"
      },
      "outputs": [],
      "source": [
        "import numpy as np\n",
        "from random import randint\n",
        "from sklearn.utils import shuffle\n",
        "from sklearn.preprocessing import MinMaxScaler\n",
        "import os"
      ]
    },
    {
      "cell_type": "code",
      "source": [
        "if not os.path.isdir('Properties_philly_Kraggle_v2.csv'):\n",
        "  print(os.listdir(\"/content\"))"
      ],
      "metadata": {
        "colab": {
          "base_uri": "https://localhost:8080/"
        },
        "id": "-e1orw9kvC4r",
        "outputId": "825dba52-b88f-4c79-dd08-3075bb9d6471"
      },
      "execution_count": 164,
      "outputs": [
        {
          "output_type": "stream",
          "name": "stdout",
          "text": [
            "['.config', 'Properties_philly_Kraggle_v2.csv', 'sample_data']\n"
          ]
        }
      ]
    },
    {
      "cell_type": "code",
      "source": [
        "# philly_properties = np.genfromtxt('Properties_philly_Kraggle_v2.csv', delimiter=',')"
      ],
      "metadata": {
        "id": "tN5DSa_Cw2zF"
      },
      "execution_count": null,
      "outputs": []
    },
    {
      "cell_type": "code",
      "source": [
        "import pandas as pd\n",
        "# df=pd.read_csv('Properties_philly_Kraggle_v2.csv', sep=',')\n",
        "df=pd.read_csv('Properties_philly_Kraggle_v2.csv', sep=',', index_col=False)\n",
        "df.dropna(inplace=True)\n",
        "df.reset_index()\n",
        "df.values"
      ],
      "metadata": {
        "id": "MTqidWjsxrkT"
      },
      "execution_count": null,
      "outputs": []
    },
    {
      "cell_type": "code",
      "source": [
        "df[-5:]\n",
        "# TODO: Fix index after dropna"
      ],
      "metadata": {
        "id": "l9KMcmw_zDOw"
      },
      "execution_count": null,
      "outputs": []
    },
    {
      "cell_type": "code",
      "source": [
        "df.drop(['Address', 'Opening Bid', 'Book/Writ', 'OPA', 'Ward', 'Sheriff Cost', 'Advertising', 'Other', 'Record Deed', 'Zillow Estimate', 'Sale Date'], axis=1, inplace=True)"
      ],
      "metadata": {
        "id": "HZwvv8Kj1Qeg"
      },
      "execution_count": 167,
      "outputs": []
    },
    {
      "cell_type": "code",
      "source": [
        "df.rename(columns={'finished \\n(SqFt)':'SqFt', 'Sale Price/bid price': 'Sale Price', 'Zillow Address': 'Address'}, inplace=True)"
      ],
      "metadata": {
        "id": "oWXl7LXj5hIz"
      },
      "execution_count": 168,
      "outputs": []
    },
    {
      "cell_type": "code",
      "source": [
        "df.columns"
      ],
      "metadata": {
        "id": "z-W7yYA249hS"
      },
      "execution_count": null,
      "outputs": []
    },
    {
      "cell_type": "markdown",
      "source": [
        "## Analyze Sale Prices\n",
        "And classify data into quantiles"
      ],
      "metadata": {
        "id": "GuC0Su_WzKER"
      }
    },
    {
      "cell_type": "code",
      "source": [
        "prices = df['Sale Price']\n",
        "# prices.values\n",
        "prices = prices.to_numpy()\n",
        "prices_int = []\n",
        "for price in prices:\n",
        "  prices_int.append(int(price[1:].replace(',', '')))\n",
        "prices = np.array(prices_int)\n",
        "prices[1]"
      ],
      "metadata": {
        "id": "3x8Y7mHyn9Wh"
      },
      "execution_count": null,
      "outputs": []
    },
    {
      "cell_type": "code",
      "source": [
        "import matplotlib.pyplot as plt\n",
        "\n",
        "plt.rcParams[\"figure.figsize\"] = [17.50, 13.50]\n",
        "plt.rcParams[\"figure.autolayout\"] = True\n",
        "\n",
        "prices_index = np.array(list(range(prices.size)))\n",
        "\n",
        "plt.title(\"Graph of Sale Price Data\")\n",
        "plt.plot(prices_index, prices, color=\"green\")\n",
        "\n",
        "plt.show()"
      ],
      "metadata": {
        "id": "MkhDGN5uphPt"
      },
      "execution_count": null,
      "outputs": []
    },
    {
      "cell_type": "code",
      "source": [
        "quartile_0 = min(prices) \n",
        "quartile_1 = np.quantile(prices, .25)\n",
        "quartile_2 = np.quantile(prices, .50)\n",
        "quartile_3 = np.quantile(prices, .75)\n",
        "quartile_4 = max(prices)\n",
        "print(quartile_0, quartile_1, quartile_2, quartile_3, quartile_4)"
      ],
      "metadata": {
        "id": "CEZaltl7p19F"
      },
      "execution_count": null,
      "outputs": []
    },
    {
      "cell_type": "code",
      "source": [
        "Sales_price_category = []\n",
        "for price in prices:\n",
        "  if price < quartile_1:\n",
        "    Sales_price_category.append(float(0))\n",
        "  elif price < quartile_2:\n",
        "    Sales_price_category.append(float(1))\n",
        "  elif price < quartile_3:\n",
        "    Sales_price_category.append(float(2))\n",
        "  else:\n",
        "    Sales_price_category.append(float(3))\n",
        "Sales_price_category[-10:]"
      ],
      "metadata": {
        "id": "vKfxm3FOzkV8"
      },
      "execution_count": null,
      "outputs": []
    },
    {
      "cell_type": "code",
      "source": [
        "df['Sales Price Category'] = Sales_price_category\n",
        "df.drop(columns=['Sale Price'], inplace=True)\n",
        "df[-10:]"
      ],
      "metadata": {
        "id": "CmMRD36t19Pc"
      },
      "execution_count": null,
      "outputs": []
    },
    {
      "cell_type": "markdown",
      "source": [
        "## Pre process data for the Nerual Network"
      ],
      "metadata": {
        "id": "IlccLosQx4tF"
      }
    },
    {
      "cell_type": "code",
      "source": [
        "df.drop(columns=['Address', 'Attorney', 'Seller', 'Buyer'], inplace=True)"
      ],
      "metadata": {
        "id": "nng_QZ5JyCyf"
      },
      "execution_count": 176,
      "outputs": []
    },
    {
      "cell_type": "code",
      "source": [
        "PropType = df['PropType']\n",
        "prop_types = set()\n",
        "for prop in PropType:\n",
        "  prop_types.add(prop)\n",
        "prop_types = list(prop_types)\n",
        "new_prop = list()\n",
        "for prop in PropType:\n",
        "  new_prop.append(float(prop_types.index(prop)))\n",
        "df['PropType'] = new_prop"
      ],
      "metadata": {
        "id": "igg6JyjdytX8"
      },
      "execution_count": 177,
      "outputs": []
    },
    {
      "cell_type": "code",
      "source": [
        "df = df[df[' bathrooms '] != ' -   ']\n",
        "df['bathrooms'] = df[' bathrooms ']\n",
        "df.drop(columns=[' bathrooms '], inplace=True)"
      ],
      "metadata": {
        "colab": {
          "base_uri": "https://localhost:8080/"
        },
        "id": "fIRincHI2KoQ",
        "outputId": "dbb630f5-f55b-4b9d-cb27-477dbcb666ef"
      },
      "execution_count": 178,
      "outputs": [
        {
          "output_type": "stream",
          "name": "stderr",
          "text": [
            "/usr/local/lib/python3.7/dist-packages/ipykernel_launcher.py:2: SettingWithCopyWarning: \n",
            "A value is trying to be set on a copy of a slice from a DataFrame.\n",
            "Try using .loc[row_indexer,col_indexer] = value instead\n",
            "\n",
            "See the caveats in the documentation: https://pandas.pydata.org/pandas-docs/stable/user_guide/indexing.html#returning-a-view-versus-a-copy\n",
            "  \n",
            "/usr/local/lib/python3.7/dist-packages/pandas/core/frame.py:4174: SettingWithCopyWarning: \n",
            "A value is trying to be set on a copy of a slice from a DataFrame\n",
            "\n",
            "See the caveats in the documentation: https://pandas.pydata.org/pandas-docs/stable/user_guide/indexing.html#returning-a-view-versus-a-copy\n",
            "  errors=errors,\n"
          ]
        }
      ]
    },
    {
      "cell_type": "code",
      "source": [
        "df = df[df[' bedrooms '] != ' -   ']\n",
        "df['bedrooms'] = df[' bedrooms ']\n",
        "df.drop(columns=[' bedrooms '], inplace=True)"
      ],
      "metadata": {
        "id": "KJQbkTaF2_KM"
      },
      "execution_count": 179,
      "outputs": []
    },
    {
      "cell_type": "code",
      "source": [
        "df = df[df[' Avg Walk&Transit score  '] != ' -   ']\n",
        "df['Avg Walk&Transit score'] = df[' Avg Walk&Transit score  ']\n",
        "df.drop(columns=[' Avg Walk&Transit score  '], inplace=True)"
      ],
      "metadata": {
        "id": "POTlZ7UI3kRd"
      },
      "execution_count": 180,
      "outputs": []
    },
    {
      "cell_type": "code",
      "source": [
        "df = df[df[' Violent Crime Rate '] != ' -   ']\n",
        "df['Violent Crime Rate'] = df[' Violent Crime Rate ']\n",
        "df.drop(columns=[' Violent Crime Rate '], inplace=True)"
      ],
      "metadata": {
        "id": "Livt29iU3rNj"
      },
      "execution_count": 181,
      "outputs": []
    },
    {
      "cell_type": "code",
      "source": [
        "df = df[df[' School Score  '] != ' -   ']\n",
        "df['School Score'] = df[' School Score  ']\n",
        "df.drop(columns=[' School Score  '], inplace=True)"
      ],
      "metadata": {
        "id": "2fdM878V3yXq"
      },
      "execution_count": 182,
      "outputs": []
    },
    {
      "cell_type": "code",
      "source": [
        "df = df.astype({'bathrooms': float, 'bedrooms': float})"
      ],
      "metadata": {
        "id": "3Q-0ky4z2sl8"
      },
      "execution_count": 183,
      "outputs": []
    },
    {
      "cell_type": "code",
      "source": [
        "# PropType = df['Sale Date']\n",
        "# prop_types = set()\n",
        "# for prop in PropType:\n",
        "#   prop_types.add(prop)\n",
        "# prop_types\n",
        "# df.columns\n"
      ],
      "metadata": {
        "id": "KBWUdg2s03-5"
      },
      "execution_count": null,
      "outputs": []
    },
    {
      "cell_type": "code",
      "source": [
        "for column_name in ['Rent Estimate', 'taxAssessment', 'Average comps']:\n",
        "  new_col = list()\n",
        "  for cell in df[column_name]:\n",
        "    new_col.append(float(cell.replace(',', '')))\n",
        "  df[column_name] = new_col"
      ],
      "metadata": {
        "id": "fW1Onjan0m6V"
      },
      "execution_count": 184,
      "outputs": []
    },
    {
      "cell_type": "code",
      "source": [
        "df.dtypes"
      ],
      "metadata": {
        "colab": {
          "base_uri": "https://localhost:8080/"
        },
        "id": "YOed5vj6xG_I",
        "outputId": "150a8580-355f-4b02-bfc3-0414c71db117"
      },
      "execution_count": 186,
      "outputs": [
        {
          "output_type": "execute_result",
          "data": {
            "text/plain": [
              "Postal Code               float64\n",
              "Water                     float64\n",
              "PGW                       float64\n",
              "Rent Estimate             float64\n",
              "taxAssessment             float64\n",
              "yearBuilt                 float64\n",
              "SqFt                      float64\n",
              "PropType                  float64\n",
              "Average comps             float64\n",
              "Sales Price Category        int64\n",
              "bathrooms                 float64\n",
              "bedrooms                  float64\n",
              "Avg Walk&Transit score    float64\n",
              "Violent Crime Rate        float64\n",
              "School Score              float64\n",
              "dtype: object"
            ]
          },
          "metadata": {},
          "execution_count": 186
        }
      ]
    },
    {
      "cell_type": "code",
      "source": [
        "df.head(2)"
      ],
      "metadata": {
        "colab": {
          "base_uri": "https://localhost:8080/",
          "height": 191
        },
        "id": "aoG5ad6UxcIh",
        "outputId": "6d9c39c0-81df-4831-eceb-2213fd86283e"
      },
      "execution_count": 187,
      "outputs": [
        {
          "output_type": "execute_result",
          "data": {
            "text/html": [
              "\n",
              "  <div id=\"df-11c0d06e-b1c3-4a2d-a11b-8a9c6e7e9ebb\">\n",
              "    <div class=\"colab-df-container\">\n",
              "      <div>\n",
              "<style scoped>\n",
              "    .dataframe tbody tr th:only-of-type {\n",
              "        vertical-align: middle;\n",
              "    }\n",
              "\n",
              "    .dataframe tbody tr th {\n",
              "        vertical-align: top;\n",
              "    }\n",
              "\n",
              "    .dataframe thead th {\n",
              "        text-align: right;\n",
              "    }\n",
              "</style>\n",
              "<table border=\"1\" class=\"dataframe\">\n",
              "  <thead>\n",
              "    <tr style=\"text-align: right;\">\n",
              "      <th></th>\n",
              "      <th>Postal Code</th>\n",
              "      <th>Water</th>\n",
              "      <th>PGW</th>\n",
              "      <th>Rent Estimate</th>\n",
              "      <th>taxAssessment</th>\n",
              "      <th>yearBuilt</th>\n",
              "      <th>SqFt</th>\n",
              "      <th>PropType</th>\n",
              "      <th>Average comps</th>\n",
              "      <th>Sales Price Category</th>\n",
              "      <th>bathrooms</th>\n",
              "      <th>bedrooms</th>\n",
              "      <th>Avg Walk&amp;Transit score</th>\n",
              "      <th>Violent Crime Rate</th>\n",
              "      <th>School Score</th>\n",
              "    </tr>\n",
              "  </thead>\n",
              "  <tbody>\n",
              "    <tr>\n",
              "      <th>0</th>\n",
              "      <td>19125.0</td>\n",
              "      <td>361.49</td>\n",
              "      <td>415.28</td>\n",
              "      <td>1500.0</td>\n",
              "      <td>174000.0</td>\n",
              "      <td>1921.0</td>\n",
              "      <td>898.0</td>\n",
              "      <td>0.0</td>\n",
              "      <td>240254.55</td>\n",
              "      <td>0</td>\n",
              "      <td>1.0</td>\n",
              "      <td>2.0</td>\n",
              "      <td>82.25</td>\n",
              "      <td>1.13</td>\n",
              "      <td>15.87</td>\n",
              "    </tr>\n",
              "    <tr>\n",
              "      <th>1</th>\n",
              "      <td>19136.0</td>\n",
              "      <td>323.76</td>\n",
              "      <td>0.00</td>\n",
              "      <td>1200.0</td>\n",
              "      <td>119700.0</td>\n",
              "      <td>1959.0</td>\n",
              "      <td>1120.0</td>\n",
              "      <td>2.0</td>\n",
              "      <td>150937.50</td>\n",
              "      <td>0</td>\n",
              "      <td>1.5</td>\n",
              "      <td>3.0</td>\n",
              "      <td>65.25</td>\n",
              "      <td>0.35</td>\n",
              "      <td>32.53</td>\n",
              "    </tr>\n",
              "  </tbody>\n",
              "</table>\n",
              "</div>\n",
              "      <button class=\"colab-df-convert\" onclick=\"convertToInteractive('df-11c0d06e-b1c3-4a2d-a11b-8a9c6e7e9ebb')\"\n",
              "              title=\"Convert this dataframe to an interactive table.\"\n",
              "              style=\"display:none;\">\n",
              "        \n",
              "  <svg xmlns=\"http://www.w3.org/2000/svg\" height=\"24px\"viewBox=\"0 0 24 24\"\n",
              "       width=\"24px\">\n",
              "    <path d=\"M0 0h24v24H0V0z\" fill=\"none\"/>\n",
              "    <path d=\"M18.56 5.44l.94 2.06.94-2.06 2.06-.94-2.06-.94-.94-2.06-.94 2.06-2.06.94zm-11 1L8.5 8.5l.94-2.06 2.06-.94-2.06-.94L8.5 2.5l-.94 2.06-2.06.94zm10 10l.94 2.06.94-2.06 2.06-.94-2.06-.94-.94-2.06-.94 2.06-2.06.94z\"/><path d=\"M17.41 7.96l-1.37-1.37c-.4-.4-.92-.59-1.43-.59-.52 0-1.04.2-1.43.59L10.3 9.45l-7.72 7.72c-.78.78-.78 2.05 0 2.83L4 21.41c.39.39.9.59 1.41.59.51 0 1.02-.2 1.41-.59l7.78-7.78 2.81-2.81c.8-.78.8-2.07 0-2.86zM5.41 20L4 18.59l7.72-7.72 1.47 1.35L5.41 20z\"/>\n",
              "  </svg>\n",
              "      </button>\n",
              "      \n",
              "  <style>\n",
              "    .colab-df-container {\n",
              "      display:flex;\n",
              "      flex-wrap:wrap;\n",
              "      gap: 12px;\n",
              "    }\n",
              "\n",
              "    .colab-df-convert {\n",
              "      background-color: #E8F0FE;\n",
              "      border: none;\n",
              "      border-radius: 50%;\n",
              "      cursor: pointer;\n",
              "      display: none;\n",
              "      fill: #1967D2;\n",
              "      height: 32px;\n",
              "      padding: 0 0 0 0;\n",
              "      width: 32px;\n",
              "    }\n",
              "\n",
              "    .colab-df-convert:hover {\n",
              "      background-color: #E2EBFA;\n",
              "      box-shadow: 0px 1px 2px rgba(60, 64, 67, 0.3), 0px 1px 3px 1px rgba(60, 64, 67, 0.15);\n",
              "      fill: #174EA6;\n",
              "    }\n",
              "\n",
              "    [theme=dark] .colab-df-convert {\n",
              "      background-color: #3B4455;\n",
              "      fill: #D2E3FC;\n",
              "    }\n",
              "\n",
              "    [theme=dark] .colab-df-convert:hover {\n",
              "      background-color: #434B5C;\n",
              "      box-shadow: 0px 1px 3px 1px rgba(0, 0, 0, 0.15);\n",
              "      filter: drop-shadow(0px 1px 2px rgba(0, 0, 0, 0.3));\n",
              "      fill: #FFFFFF;\n",
              "    }\n",
              "  </style>\n",
              "\n",
              "      <script>\n",
              "        const buttonEl =\n",
              "          document.querySelector('#df-11c0d06e-b1c3-4a2d-a11b-8a9c6e7e9ebb button.colab-df-convert');\n",
              "        buttonEl.style.display =\n",
              "          google.colab.kernel.accessAllowed ? 'block' : 'none';\n",
              "\n",
              "        async function convertToInteractive(key) {\n",
              "          const element = document.querySelector('#df-11c0d06e-b1c3-4a2d-a11b-8a9c6e7e9ebb');\n",
              "          const dataTable =\n",
              "            await google.colab.kernel.invokeFunction('convertToInteractive',\n",
              "                                                     [key], {});\n",
              "          if (!dataTable) return;\n",
              "\n",
              "          const docLinkHtml = 'Like what you see? Visit the ' +\n",
              "            '<a target=\"_blank\" href=https://colab.research.google.com/notebooks/data_table.ipynb>data table notebook</a>'\n",
              "            + ' to learn more about interactive tables.';\n",
              "          element.innerHTML = '';\n",
              "          dataTable['output_type'] = 'display_data';\n",
              "          await google.colab.output.renderOutput(dataTable, element);\n",
              "          const docLink = document.createElement('div');\n",
              "          docLink.innerHTML = docLinkHtml;\n",
              "          element.appendChild(docLink);\n",
              "        }\n",
              "      </script>\n",
              "    </div>\n",
              "  </div>\n",
              "  "
            ],
            "text/plain": [
              "   Postal Code   Water  ...  Violent Crime Rate  School Score\n",
              "0      19125.0  361.49  ...                1.13         15.87\n",
              "1      19136.0  323.76  ...                0.35         32.53\n",
              "\n",
              "[2 rows x 15 columns]"
            ]
          },
          "metadata": {},
          "execution_count": 187
        }
      ]
    },
    {
      "cell_type": "code",
      "source": [
        "df = df.sample(frac = 1)\n",
        "train_samples = df[:500].drop(columns=['Sales Price Category'])\n",
        "train_labels = df[:500]['Sales Price Category']\n",
        "test_samples = df[500:].drop(columns=['Sales Price Category'])\n",
        "test_labels = df[500:]['Sales Price Category']"
      ],
      "metadata": {
        "id": "JtexpbCF4vY1"
      },
      "execution_count": 188,
      "outputs": []
    },
    {
      "cell_type": "code",
      "source": [
        "train_samples"
      ],
      "metadata": {
        "id": "8WQamPm56YQM"
      },
      "execution_count": null,
      "outputs": []
    },
    {
      "cell_type": "code",
      "source": [
        "train_samples = train_samples.to_numpy()\n",
        "train_labels = train_labels.to_numpy()\n",
        "test_samples = test_samples.to_numpy()\n",
        "test_labels = test_labels.to_numpy()"
      ],
      "metadata": {
        "id": "DN2Krj1S4jOu"
      },
      "execution_count": 192,
      "outputs": []
    },
    {
      "cell_type": "code",
      "source": [
        "train_samples.dtype"
      ],
      "metadata": {
        "colab": {
          "base_uri": "https://localhost:8080/"
        },
        "id": "JPsLMb76nYmT",
        "outputId": "e5b42eb5-df43-4699-d221-6082731b7b20"
      },
      "execution_count": 193,
      "outputs": [
        {
          "output_type": "execute_result",
          "data": {
            "text/plain": [
              "dtype('float64')"
            ]
          },
          "metadata": {},
          "execution_count": 193
        }
      ]
    },
    {
      "cell_type": "markdown",
      "source": [
        "## Building the neural network model"
      ],
      "metadata": {
        "id": "02JtzPBR8RpJ"
      }
    },
    {
      "cell_type": "code",
      "source": [
        "model = None"
      ],
      "metadata": {
        "id": "b3q5-TOf7bBH"
      },
      "execution_count": 215,
      "outputs": []
    },
    {
      "cell_type": "code",
      "source": [
        "import tensorflow as tf\n",
        "from tensorflow import keras\n",
        "from tensorflow.keras.models import Sequential\n",
        "from tensorflow.keras.layers import Activation, Dense\n",
        "from tensorflow.keras.optimizers import Adam\n",
        "from tensorflow.keras.metrics import categorical_crossentropy"
      ],
      "metadata": {
        "id": "YFzH785v8WmL"
      },
      "execution_count": 216,
      "outputs": []
    },
    {
      "cell_type": "code",
      "source": [
        "model = Sequential([\n",
        "    Dense(units=16, input_shape=(14,), activation='relu'),\n",
        "    Dense(units=32, activation='relu'),\n",
        "    Dense(units=4, activation='softmax')\n",
        "])"
      ],
      "metadata": {
        "id": "XjzcN7Rx8j8U"
      },
      "execution_count": 217,
      "outputs": []
    },
    {
      "cell_type": "code",
      "source": [
        "model.summary()"
      ],
      "metadata": {
        "colab": {
          "base_uri": "https://localhost:8080/"
        },
        "id": "E9gGeJts-jk4",
        "outputId": "35bf85ef-bd9d-4ddb-8ad4-38498e83954a"
      },
      "execution_count": 218,
      "outputs": [
        {
          "output_type": "stream",
          "name": "stdout",
          "text": [
            "Model: \"sequential_5\"\n",
            "_________________________________________________________________\n",
            " Layer (type)                Output Shape              Param #   \n",
            "=================================================================\n",
            " dense_15 (Dense)            (None, 16)                240       \n",
            "                                                                 \n",
            " dense_16 (Dense)            (None, 32)                544       \n",
            "                                                                 \n",
            " dense_17 (Dense)            (None, 4)                 132       \n",
            "                                                                 \n",
            "=================================================================\n",
            "Total params: 916\n",
            "Trainable params: 916\n",
            "Non-trainable params: 0\n",
            "_________________________________________________________________\n"
          ]
        }
      ]
    },
    {
      "cell_type": "code",
      "source": [
        "model.compile(optimizer=Adam(learning_rate=0.0001),\n",
        "              loss='sparse_categorical_crossentropy',\n",
        "              metrics=['accuracy']\n",
        ")"
      ],
      "metadata": {
        "id": "mG3ZP7g2-xkt"
      },
      "execution_count": 219,
      "outputs": []
    },
    {
      "cell_type": "code",
      "source": [
        "model.fit(x=train_samples,\n",
        "          y=train_labels, validation_split=0.1,\n",
        "          batch_size=10,\n",
        "          epochs=200,\n",
        "          shuffle=True,\n",
        "          verbose=2\n",
        ")"
      ],
      "metadata": {
        "colab": {
          "base_uri": "https://localhost:8080/"
        },
        "id": "jfg_XWXV-zfU",
        "outputId": "16ca148f-d928-41e8-ae30-063434be549a"
      },
      "execution_count": 220,
      "outputs": [
        {
          "output_type": "stream",
          "name": "stdout",
          "text": [
            "Epoch 1/200\n",
            "45/45 - 1s - loss: 8559.1641 - accuracy: 0.2178 - val_loss: 7867.2671 - val_accuracy: 0.1800 - 916ms/epoch - 20ms/step\n",
            "Epoch 2/200\n",
            "45/45 - 0s - loss: 6867.6445 - accuracy: 0.2533 - val_loss: 6159.8770 - val_accuracy: 0.1800 - 124ms/epoch - 3ms/step\n",
            "Epoch 3/200\n",
            "45/45 - 0s - loss: 5320.4707 - accuracy: 0.2667 - val_loss: 4686.7627 - val_accuracy: 0.2200 - 120ms/epoch - 3ms/step\n",
            "Epoch 4/200\n",
            "45/45 - 0s - loss: 3968.8123 - accuracy: 0.2533 - val_loss: 3439.0994 - val_accuracy: 0.2400 - 142ms/epoch - 3ms/step\n",
            "Epoch 5/200\n",
            "45/45 - 0s - loss: 2757.3735 - accuracy: 0.2467 - val_loss: 2244.6353 - val_accuracy: 0.2400 - 130ms/epoch - 3ms/step\n",
            "Epoch 6/200\n",
            "45/45 - 0s - loss: 1626.8491 - accuracy: 0.2844 - val_loss: 1342.8250 - val_accuracy: 0.4000 - 139ms/epoch - 3ms/step\n",
            "Epoch 7/200\n",
            "45/45 - 0s - loss: 1166.8152 - accuracy: 0.4200 - val_loss: 1256.3002 - val_accuracy: 0.4000 - 120ms/epoch - 3ms/step\n",
            "Epoch 8/200\n",
            "45/45 - 0s - loss: 1061.6899 - accuracy: 0.4356 - val_loss: 1181.8215 - val_accuracy: 0.3800 - 133ms/epoch - 3ms/step\n",
            "Epoch 9/200\n",
            "45/45 - 0s - loss: 986.3660 - accuracy: 0.4400 - val_loss: 1117.7157 - val_accuracy: 0.4000 - 123ms/epoch - 3ms/step\n",
            "Epoch 10/200\n",
            "45/45 - 0s - loss: 920.2459 - accuracy: 0.4622 - val_loss: 1044.7407 - val_accuracy: 0.4200 - 116ms/epoch - 3ms/step\n",
            "Epoch 11/200\n",
            "45/45 - 0s - loss: 859.9637 - accuracy: 0.4533 - val_loss: 980.0514 - val_accuracy: 0.4600 - 121ms/epoch - 3ms/step\n",
            "Epoch 12/200\n",
            "45/45 - 0s - loss: 800.4244 - accuracy: 0.4333 - val_loss: 918.6613 - val_accuracy: 0.4400 - 143ms/epoch - 3ms/step\n",
            "Epoch 13/200\n",
            "45/45 - 0s - loss: 747.0958 - accuracy: 0.4400 - val_loss: 863.8580 - val_accuracy: 0.3800 - 136ms/epoch - 3ms/step\n",
            "Epoch 14/200\n",
            "45/45 - 0s - loss: 702.5101 - accuracy: 0.4533 - val_loss: 820.9323 - val_accuracy: 0.3800 - 142ms/epoch - 3ms/step\n",
            "Epoch 15/200\n",
            "45/45 - 0s - loss: 660.7498 - accuracy: 0.4489 - val_loss: 782.9924 - val_accuracy: 0.3800 - 148ms/epoch - 3ms/step\n",
            "Epoch 16/200\n",
            "45/45 - 0s - loss: 626.7400 - accuracy: 0.4333 - val_loss: 749.1433 - val_accuracy: 0.3400 - 140ms/epoch - 3ms/step\n",
            "Epoch 17/200\n",
            "45/45 - 0s - loss: 598.0991 - accuracy: 0.4311 - val_loss: 724.9578 - val_accuracy: 0.3600 - 139ms/epoch - 3ms/step\n",
            "Epoch 18/200\n",
            "45/45 - 0s - loss: 569.0636 - accuracy: 0.4311 - val_loss: 698.1838 - val_accuracy: 0.3400 - 136ms/epoch - 3ms/step\n",
            "Epoch 19/200\n",
            "45/45 - 0s - loss: 541.0999 - accuracy: 0.4156 - val_loss: 670.0776 - val_accuracy: 0.3600 - 159ms/epoch - 4ms/step\n",
            "Epoch 20/200\n",
            "45/45 - 0s - loss: 516.5241 - accuracy: 0.4022 - val_loss: 640.2061 - val_accuracy: 0.3400 - 157ms/epoch - 3ms/step\n",
            "Epoch 21/200\n",
            "45/45 - 0s - loss: 491.0121 - accuracy: 0.4200 - val_loss: 605.2040 - val_accuracy: 0.3200 - 144ms/epoch - 3ms/step\n",
            "Epoch 22/200\n",
            "45/45 - 0s - loss: 468.4891 - accuracy: 0.4178 - val_loss: 576.2769 - val_accuracy: 0.3200 - 159ms/epoch - 4ms/step\n",
            "Epoch 23/200\n",
            "45/45 - 0s - loss: 441.0713 - accuracy: 0.4089 - val_loss: 549.1661 - val_accuracy: 0.3600 - 129ms/epoch - 3ms/step\n",
            "Epoch 24/200\n",
            "45/45 - 0s - loss: 416.9085 - accuracy: 0.4111 - val_loss: 523.2138 - val_accuracy: 0.3600 - 134ms/epoch - 3ms/step\n",
            "Epoch 25/200\n",
            "45/45 - 0s - loss: 392.6420 - accuracy: 0.4156 - val_loss: 497.6759 - val_accuracy: 0.3800 - 117ms/epoch - 3ms/step\n",
            "Epoch 26/200\n",
            "45/45 - 0s - loss: 371.8262 - accuracy: 0.4178 - val_loss: 476.6182 - val_accuracy: 0.3800 - 132ms/epoch - 3ms/step\n",
            "Epoch 27/200\n",
            "45/45 - 0s - loss: 348.1622 - accuracy: 0.4178 - val_loss: 452.2995 - val_accuracy: 0.3800 - 140ms/epoch - 3ms/step\n",
            "Epoch 28/200\n",
            "45/45 - 0s - loss: 324.8947 - accuracy: 0.4200 - val_loss: 432.9245 - val_accuracy: 0.3800 - 133ms/epoch - 3ms/step\n",
            "Epoch 29/200\n",
            "45/45 - 0s - loss: 307.5953 - accuracy: 0.4111 - val_loss: 416.4170 - val_accuracy: 0.3600 - 140ms/epoch - 3ms/step\n",
            "Epoch 30/200\n",
            "45/45 - 0s - loss: 287.0852 - accuracy: 0.4067 - val_loss: 388.4309 - val_accuracy: 0.3800 - 133ms/epoch - 3ms/step\n",
            "Epoch 31/200\n",
            "45/45 - 0s - loss: 263.9159 - accuracy: 0.4311 - val_loss: 368.2318 - val_accuracy: 0.3400 - 125ms/epoch - 3ms/step\n",
            "Epoch 32/200\n",
            "45/45 - 0s - loss: 246.8393 - accuracy: 0.4289 - val_loss: 349.4956 - val_accuracy: 0.3800 - 135ms/epoch - 3ms/step\n",
            "Epoch 33/200\n",
            "45/45 - 0s - loss: 224.4997 - accuracy: 0.4044 - val_loss: 325.2714 - val_accuracy: 0.3800 - 143ms/epoch - 3ms/step\n",
            "Epoch 34/200\n",
            "45/45 - 0s - loss: 203.3437 - accuracy: 0.4222 - val_loss: 302.8822 - val_accuracy: 0.3400 - 146ms/epoch - 3ms/step\n",
            "Epoch 35/200\n",
            "45/45 - 0s - loss: 189.6549 - accuracy: 0.4333 - val_loss: 283.0674 - val_accuracy: 0.3000 - 161ms/epoch - 4ms/step\n",
            "Epoch 36/200\n",
            "45/45 - 0s - loss: 182.1929 - accuracy: 0.4333 - val_loss: 270.1859 - val_accuracy: 0.4000 - 234ms/epoch - 5ms/step\n",
            "Epoch 37/200\n",
            "45/45 - 0s - loss: 170.0555 - accuracy: 0.4400 - val_loss: 255.0878 - val_accuracy: 0.4200 - 177ms/epoch - 4ms/step\n",
            "Epoch 38/200\n",
            "45/45 - 0s - loss: 162.3535 - accuracy: 0.4667 - val_loss: 242.1477 - val_accuracy: 0.3800 - 206ms/epoch - 5ms/step\n",
            "Epoch 39/200\n",
            "45/45 - 0s - loss: 153.3949 - accuracy: 0.4822 - val_loss: 229.2757 - val_accuracy: 0.4000 - 191ms/epoch - 4ms/step\n",
            "Epoch 40/200\n",
            "45/45 - 0s - loss: 149.8972 - accuracy: 0.4733 - val_loss: 222.8501 - val_accuracy: 0.4000 - 214ms/epoch - 5ms/step\n",
            "Epoch 41/200\n",
            "45/45 - 0s - loss: 141.1156 - accuracy: 0.4933 - val_loss: 210.4077 - val_accuracy: 0.3800 - 150ms/epoch - 3ms/step\n",
            "Epoch 42/200\n",
            "45/45 - 0s - loss: 137.9649 - accuracy: 0.4822 - val_loss: 202.6945 - val_accuracy: 0.3200 - 157ms/epoch - 3ms/step\n",
            "Epoch 43/200\n",
            "45/45 - 0s - loss: 130.9075 - accuracy: 0.4889 - val_loss: 199.2042 - val_accuracy: 0.3400 - 163ms/epoch - 4ms/step\n",
            "Epoch 44/200\n",
            "45/45 - 0s - loss: 129.9033 - accuracy: 0.4844 - val_loss: 184.8858 - val_accuracy: 0.4000 - 157ms/epoch - 3ms/step\n",
            "Epoch 45/200\n",
            "45/45 - 0s - loss: 124.7223 - accuracy: 0.5111 - val_loss: 182.6280 - val_accuracy: 0.3600 - 148ms/epoch - 3ms/step\n",
            "Epoch 46/200\n",
            "45/45 - 0s - loss: 120.9326 - accuracy: 0.5200 - val_loss: 184.5336 - val_accuracy: 0.3400 - 146ms/epoch - 3ms/step\n",
            "Epoch 47/200\n",
            "45/45 - 0s - loss: 120.6389 - accuracy: 0.4978 - val_loss: 183.4699 - val_accuracy: 0.3600 - 131ms/epoch - 3ms/step\n",
            "Epoch 48/200\n",
            "45/45 - 0s - loss: 114.5747 - accuracy: 0.5156 - val_loss: 168.5031 - val_accuracy: 0.4000 - 129ms/epoch - 3ms/step\n",
            "Epoch 49/200\n",
            "45/45 - 0s - loss: 111.0260 - accuracy: 0.5244 - val_loss: 164.1488 - val_accuracy: 0.4200 - 141ms/epoch - 3ms/step\n",
            "Epoch 50/200\n",
            "45/45 - 0s - loss: 108.6658 - accuracy: 0.5244 - val_loss: 163.9099 - val_accuracy: 0.4000 - 126ms/epoch - 3ms/step\n",
            "Epoch 51/200\n",
            "45/45 - 0s - loss: 106.5390 - accuracy: 0.5289 - val_loss: 156.6483 - val_accuracy: 0.4400 - 122ms/epoch - 3ms/step\n",
            "Epoch 52/200\n",
            "45/45 - 0s - loss: 105.0835 - accuracy: 0.5356 - val_loss: 150.5341 - val_accuracy: 0.4000 - 132ms/epoch - 3ms/step\n",
            "Epoch 53/200\n",
            "45/45 - 0s - loss: 103.1251 - accuracy: 0.5422 - val_loss: 148.0782 - val_accuracy: 0.4600 - 153ms/epoch - 3ms/step\n",
            "Epoch 54/200\n",
            "45/45 - 0s - loss: 99.2750 - accuracy: 0.5622 - val_loss: 148.2230 - val_accuracy: 0.4000 - 132ms/epoch - 3ms/step\n",
            "Epoch 55/200\n",
            "45/45 - 0s - loss: 101.5111 - accuracy: 0.5311 - val_loss: 144.6084 - val_accuracy: 0.4000 - 149ms/epoch - 3ms/step\n",
            "Epoch 56/200\n",
            "45/45 - 0s - loss: 98.5037 - accuracy: 0.5333 - val_loss: 138.9167 - val_accuracy: 0.4800 - 125ms/epoch - 3ms/step\n",
            "Epoch 57/200\n",
            "45/45 - 0s - loss: 96.7505 - accuracy: 0.5756 - val_loss: 143.8107 - val_accuracy: 0.4600 - 141ms/epoch - 3ms/step\n",
            "Epoch 58/200\n",
            "45/45 - 0s - loss: 95.9401 - accuracy: 0.5400 - val_loss: 145.2921 - val_accuracy: 0.4800 - 130ms/epoch - 3ms/step\n",
            "Epoch 59/200\n",
            "45/45 - 0s - loss: 95.3417 - accuracy: 0.5400 - val_loss: 145.2868 - val_accuracy: 0.4800 - 147ms/epoch - 3ms/step\n",
            "Epoch 60/200\n",
            "45/45 - 0s - loss: 94.5005 - accuracy: 0.5333 - val_loss: 141.0370 - val_accuracy: 0.5000 - 147ms/epoch - 3ms/step\n",
            "Epoch 61/200\n",
            "45/45 - 0s - loss: 93.5058 - accuracy: 0.5467 - val_loss: 142.5109 - val_accuracy: 0.4400 - 157ms/epoch - 3ms/step\n",
            "Epoch 62/200\n",
            "45/45 - 0s - loss: 89.2195 - accuracy: 0.5556 - val_loss: 143.5611 - val_accuracy: 0.4200 - 163ms/epoch - 4ms/step\n",
            "Epoch 63/200\n",
            "45/45 - 0s - loss: 92.0734 - accuracy: 0.5400 - val_loss: 148.0070 - val_accuracy: 0.4000 - 149ms/epoch - 3ms/step\n",
            "Epoch 64/200\n",
            "45/45 - 0s - loss: 95.3098 - accuracy: 0.5400 - val_loss: 134.7067 - val_accuracy: 0.4800 - 163ms/epoch - 4ms/step\n",
            "Epoch 65/200\n",
            "45/45 - 0s - loss: 88.0341 - accuracy: 0.5511 - val_loss: 140.6840 - val_accuracy: 0.4600 - 132ms/epoch - 3ms/step\n",
            "Epoch 66/200\n",
            "45/45 - 0s - loss: 85.8902 - accuracy: 0.5556 - val_loss: 134.1071 - val_accuracy: 0.5000 - 172ms/epoch - 4ms/step\n",
            "Epoch 67/200\n",
            "45/45 - 0s - loss: 85.7361 - accuracy: 0.5533 - val_loss: 137.1212 - val_accuracy: 0.4000 - 160ms/epoch - 4ms/step\n",
            "Epoch 68/200\n",
            "45/45 - 0s - loss: 83.3527 - accuracy: 0.5622 - val_loss: 138.8375 - val_accuracy: 0.4800 - 177ms/epoch - 4ms/step\n",
            "Epoch 69/200\n",
            "45/45 - 0s - loss: 84.2853 - accuracy: 0.5667 - val_loss: 136.4332 - val_accuracy: 0.4800 - 127ms/epoch - 3ms/step\n",
            "Epoch 70/200\n",
            "45/45 - 0s - loss: 81.4643 - accuracy: 0.5533 - val_loss: 142.3133 - val_accuracy: 0.4200 - 153ms/epoch - 3ms/step\n",
            "Epoch 71/200\n",
            "45/45 - 0s - loss: 81.1852 - accuracy: 0.5622 - val_loss: 135.8516 - val_accuracy: 0.4200 - 139ms/epoch - 3ms/step\n",
            "Epoch 72/200\n",
            "45/45 - 0s - loss: 82.3484 - accuracy: 0.5378 - val_loss: 133.2292 - val_accuracy: 0.4600 - 135ms/epoch - 3ms/step\n",
            "Epoch 73/200\n",
            "45/45 - 0s - loss: 79.9568 - accuracy: 0.5533 - val_loss: 134.4284 - val_accuracy: 0.4000 - 154ms/epoch - 3ms/step\n",
            "Epoch 74/200\n",
            "45/45 - 0s - loss: 78.3249 - accuracy: 0.5689 - val_loss: 135.0494 - val_accuracy: 0.4200 - 130ms/epoch - 3ms/step\n",
            "Epoch 75/200\n",
            "45/45 - 0s - loss: 77.8286 - accuracy: 0.5311 - val_loss: 132.9243 - val_accuracy: 0.4400 - 141ms/epoch - 3ms/step\n",
            "Epoch 76/200\n",
            "45/45 - 0s - loss: 75.4335 - accuracy: 0.5711 - val_loss: 138.6738 - val_accuracy: 0.4000 - 142ms/epoch - 3ms/step\n",
            "Epoch 77/200\n",
            "45/45 - 0s - loss: 76.9545 - accuracy: 0.5778 - val_loss: 130.5853 - val_accuracy: 0.4800 - 161ms/epoch - 4ms/step\n",
            "Epoch 78/200\n",
            "45/45 - 0s - loss: 74.3629 - accuracy: 0.5622 - val_loss: 142.7829 - val_accuracy: 0.4000 - 160ms/epoch - 4ms/step\n",
            "Epoch 79/200\n",
            "45/45 - 0s - loss: 76.8713 - accuracy: 0.5533 - val_loss: 133.7614 - val_accuracy: 0.4200 - 155ms/epoch - 3ms/step\n",
            "Epoch 80/200\n",
            "45/45 - 0s - loss: 75.5092 - accuracy: 0.5467 - val_loss: 131.7741 - val_accuracy: 0.4200 - 140ms/epoch - 3ms/step\n",
            "Epoch 81/200\n",
            "45/45 - 0s - loss: 74.4325 - accuracy: 0.5422 - val_loss: 129.6563 - val_accuracy: 0.4600 - 147ms/epoch - 3ms/step\n",
            "Epoch 82/200\n",
            "45/45 - 0s - loss: 75.0607 - accuracy: 0.5511 - val_loss: 127.7819 - val_accuracy: 0.4600 - 153ms/epoch - 3ms/step\n",
            "Epoch 83/200\n",
            "45/45 - 0s - loss: 73.3937 - accuracy: 0.5622 - val_loss: 127.2920 - val_accuracy: 0.4000 - 131ms/epoch - 3ms/step\n",
            "Epoch 84/200\n",
            "45/45 - 0s - loss: 70.6828 - accuracy: 0.5467 - val_loss: 128.9967 - val_accuracy: 0.4400 - 119ms/epoch - 3ms/step\n",
            "Epoch 85/200\n",
            "45/45 - 0s - loss: 69.2898 - accuracy: 0.5689 - val_loss: 131.0157 - val_accuracy: 0.4000 - 160ms/epoch - 4ms/step\n",
            "Epoch 86/200\n",
            "45/45 - 0s - loss: 66.7709 - accuracy: 0.5689 - val_loss: 127.7317 - val_accuracy: 0.3800 - 159ms/epoch - 4ms/step\n",
            "Epoch 87/200\n",
            "45/45 - 0s - loss: 69.7245 - accuracy: 0.5444 - val_loss: 129.8335 - val_accuracy: 0.3600 - 181ms/epoch - 4ms/step\n",
            "Epoch 88/200\n",
            "45/45 - 0s - loss: 68.4629 - accuracy: 0.5778 - val_loss: 126.9823 - val_accuracy: 0.4200 - 189ms/epoch - 4ms/step\n",
            "Epoch 89/200\n",
            "45/45 - 0s - loss: 68.1229 - accuracy: 0.5756 - val_loss: 125.3804 - val_accuracy: 0.4000 - 139ms/epoch - 3ms/step\n",
            "Epoch 90/200\n",
            "45/45 - 0s - loss: 68.0546 - accuracy: 0.5289 - val_loss: 127.1913 - val_accuracy: 0.3400 - 137ms/epoch - 3ms/step\n",
            "Epoch 91/200\n",
            "45/45 - 0s - loss: 66.5780 - accuracy: 0.5733 - val_loss: 123.8021 - val_accuracy: 0.4000 - 197ms/epoch - 4ms/step\n",
            "Epoch 92/200\n",
            "45/45 - 0s - loss: 64.7339 - accuracy: 0.5956 - val_loss: 125.3289 - val_accuracy: 0.4200 - 234ms/epoch - 5ms/step\n",
            "Epoch 93/200\n",
            "45/45 - 0s - loss: 66.1096 - accuracy: 0.5733 - val_loss: 128.6057 - val_accuracy: 0.3600 - 221ms/epoch - 5ms/step\n",
            "Epoch 94/200\n",
            "45/45 - 0s - loss: 66.7254 - accuracy: 0.5800 - val_loss: 123.8642 - val_accuracy: 0.4200 - 221ms/epoch - 5ms/step\n",
            "Epoch 95/200\n",
            "45/45 - 0s - loss: 63.6582 - accuracy: 0.5467 - val_loss: 122.1851 - val_accuracy: 0.3800 - 209ms/epoch - 5ms/step\n",
            "Epoch 96/200\n",
            "45/45 - 0s - loss: 62.4951 - accuracy: 0.5778 - val_loss: 120.8795 - val_accuracy: 0.4200 - 169ms/epoch - 4ms/step\n",
            "Epoch 97/200\n",
            "45/45 - 0s - loss: 64.5843 - accuracy: 0.5644 - val_loss: 125.6117 - val_accuracy: 0.3800 - 190ms/epoch - 4ms/step\n",
            "Epoch 98/200\n",
            "45/45 - 0s - loss: 62.7255 - accuracy: 0.5756 - val_loss: 120.2906 - val_accuracy: 0.4400 - 132ms/epoch - 3ms/step\n",
            "Epoch 99/200\n",
            "45/45 - 0s - loss: 61.7780 - accuracy: 0.5800 - val_loss: 121.7586 - val_accuracy: 0.4000 - 152ms/epoch - 3ms/step\n",
            "Epoch 100/200\n",
            "45/45 - 0s - loss: 62.6087 - accuracy: 0.5711 - val_loss: 118.6283 - val_accuracy: 0.4000 - 134ms/epoch - 3ms/step\n",
            "Epoch 101/200\n",
            "45/45 - 0s - loss: 63.7545 - accuracy: 0.5644 - val_loss: 119.9481 - val_accuracy: 0.4200 - 145ms/epoch - 3ms/step\n",
            "Epoch 102/200\n",
            "45/45 - 0s - loss: 60.5168 - accuracy: 0.5933 - val_loss: 120.1328 - val_accuracy: 0.4800 - 152ms/epoch - 3ms/step\n",
            "Epoch 103/200\n",
            "45/45 - 0s - loss: 62.1595 - accuracy: 0.5844 - val_loss: 117.9930 - val_accuracy: 0.4000 - 136ms/epoch - 3ms/step\n",
            "Epoch 104/200\n",
            "45/45 - 0s - loss: 61.0268 - accuracy: 0.5622 - val_loss: 117.1588 - val_accuracy: 0.4000 - 150ms/epoch - 3ms/step\n",
            "Epoch 105/200\n",
            "45/45 - 0s - loss: 59.2153 - accuracy: 0.5822 - val_loss: 116.8341 - val_accuracy: 0.4800 - 139ms/epoch - 3ms/step\n",
            "Epoch 106/200\n",
            "45/45 - 0s - loss: 61.5706 - accuracy: 0.5689 - val_loss: 117.2430 - val_accuracy: 0.4400 - 126ms/epoch - 3ms/step\n",
            "Epoch 107/200\n",
            "45/45 - 0s - loss: 60.0500 - accuracy: 0.5933 - val_loss: 115.3154 - val_accuracy: 0.4600 - 143ms/epoch - 3ms/step\n",
            "Epoch 108/200\n",
            "45/45 - 0s - loss: 57.8581 - accuracy: 0.5911 - val_loss: 115.5190 - val_accuracy: 0.4200 - 139ms/epoch - 3ms/step\n",
            "Epoch 109/200\n",
            "45/45 - 0s - loss: 57.8989 - accuracy: 0.5911 - val_loss: 113.2076 - val_accuracy: 0.4600 - 162ms/epoch - 4ms/step\n",
            "Epoch 110/200\n",
            "45/45 - 0s - loss: 58.1628 - accuracy: 0.5733 - val_loss: 115.1891 - val_accuracy: 0.4400 - 133ms/epoch - 3ms/step\n",
            "Epoch 111/200\n",
            "45/45 - 0s - loss: 58.0205 - accuracy: 0.5933 - val_loss: 115.3648 - val_accuracy: 0.4400 - 141ms/epoch - 3ms/step\n",
            "Epoch 112/200\n",
            "45/45 - 0s - loss: 58.2587 - accuracy: 0.5822 - val_loss: 111.7613 - val_accuracy: 0.4600 - 147ms/epoch - 3ms/step\n",
            "Epoch 113/200\n",
            "45/45 - 0s - loss: 56.5891 - accuracy: 0.5689 - val_loss: 113.8393 - val_accuracy: 0.4400 - 155ms/epoch - 3ms/step\n",
            "Epoch 114/200\n",
            "45/45 - 0s - loss: 56.1697 - accuracy: 0.5867 - val_loss: 110.3857 - val_accuracy: 0.4800 - 139ms/epoch - 3ms/step\n",
            "Epoch 115/200\n",
            "45/45 - 0s - loss: 55.7901 - accuracy: 0.5689 - val_loss: 111.4141 - val_accuracy: 0.4400 - 125ms/epoch - 3ms/step\n",
            "Epoch 116/200\n",
            "45/45 - 0s - loss: 56.8537 - accuracy: 0.5822 - val_loss: 116.3785 - val_accuracy: 0.4600 - 144ms/epoch - 3ms/step\n",
            "Epoch 117/200\n",
            "45/45 - 0s - loss: 57.3753 - accuracy: 0.5844 - val_loss: 113.4617 - val_accuracy: 0.4600 - 140ms/epoch - 3ms/step\n",
            "Epoch 118/200\n",
            "45/45 - 0s - loss: 55.9068 - accuracy: 0.5933 - val_loss: 107.8366 - val_accuracy: 0.4800 - 121ms/epoch - 3ms/step\n",
            "Epoch 119/200\n",
            "45/45 - 0s - loss: 55.1561 - accuracy: 0.5844 - val_loss: 108.6250 - val_accuracy: 0.4800 - 123ms/epoch - 3ms/step\n",
            "Epoch 120/200\n",
            "45/45 - 0s - loss: 54.2615 - accuracy: 0.5844 - val_loss: 105.0391 - val_accuracy: 0.5000 - 154ms/epoch - 3ms/step\n",
            "Epoch 121/200\n",
            "45/45 - 0s - loss: 54.3301 - accuracy: 0.5889 - val_loss: 104.4719 - val_accuracy: 0.4800 - 141ms/epoch - 3ms/step\n",
            "Epoch 122/200\n",
            "45/45 - 0s - loss: 52.1545 - accuracy: 0.5978 - val_loss: 108.9653 - val_accuracy: 0.5000 - 143ms/epoch - 3ms/step\n",
            "Epoch 123/200\n",
            "45/45 - 0s - loss: 52.2023 - accuracy: 0.5956 - val_loss: 108.5679 - val_accuracy: 0.4200 - 126ms/epoch - 3ms/step\n",
            "Epoch 124/200\n",
            "45/45 - 0s - loss: 53.3948 - accuracy: 0.6000 - val_loss: 101.1914 - val_accuracy: 0.4600 - 127ms/epoch - 3ms/step\n",
            "Epoch 125/200\n",
            "45/45 - 0s - loss: 54.0408 - accuracy: 0.5644 - val_loss: 102.6798 - val_accuracy: 0.4600 - 125ms/epoch - 3ms/step\n",
            "Epoch 126/200\n",
            "45/45 - 0s - loss: 54.6126 - accuracy: 0.5867 - val_loss: 116.2740 - val_accuracy: 0.3800 - 132ms/epoch - 3ms/step\n",
            "Epoch 127/200\n",
            "45/45 - 0s - loss: 53.0261 - accuracy: 0.6000 - val_loss: 104.5217 - val_accuracy: 0.4200 - 151ms/epoch - 3ms/step\n",
            "Epoch 128/200\n",
            "45/45 - 0s - loss: 51.5392 - accuracy: 0.6044 - val_loss: 102.6146 - val_accuracy: 0.4400 - 143ms/epoch - 3ms/step\n",
            "Epoch 129/200\n",
            "45/45 - 0s - loss: 53.7537 - accuracy: 0.5644 - val_loss: 108.4211 - val_accuracy: 0.3000 - 144ms/epoch - 3ms/step\n",
            "Epoch 130/200\n",
            "45/45 - 0s - loss: 54.6866 - accuracy: 0.5556 - val_loss: 103.8391 - val_accuracy: 0.4800 - 169ms/epoch - 4ms/step\n",
            "Epoch 131/200\n",
            "45/45 - 0s - loss: 51.4704 - accuracy: 0.5778 - val_loss: 102.6683 - val_accuracy: 0.5200 - 129ms/epoch - 3ms/step\n",
            "Epoch 132/200\n",
            "45/45 - 0s - loss: 49.6124 - accuracy: 0.6111 - val_loss: 101.0229 - val_accuracy: 0.5400 - 154ms/epoch - 3ms/step\n",
            "Epoch 133/200\n",
            "45/45 - 0s - loss: 48.6961 - accuracy: 0.6089 - val_loss: 99.1121 - val_accuracy: 0.4600 - 131ms/epoch - 3ms/step\n",
            "Epoch 134/200\n",
            "45/45 - 0s - loss: 47.5553 - accuracy: 0.6089 - val_loss: 100.0525 - val_accuracy: 0.4800 - 131ms/epoch - 3ms/step\n",
            "Epoch 135/200\n",
            "45/45 - 0s - loss: 50.7109 - accuracy: 0.5844 - val_loss: 100.1320 - val_accuracy: 0.4800 - 154ms/epoch - 3ms/step\n",
            "Epoch 136/200\n",
            "45/45 - 0s - loss: 47.6238 - accuracy: 0.6178 - val_loss: 104.4514 - val_accuracy: 0.4200 - 139ms/epoch - 3ms/step\n",
            "Epoch 137/200\n",
            "45/45 - 0s - loss: 52.0550 - accuracy: 0.5933 - val_loss: 99.0751 - val_accuracy: 0.4800 - 148ms/epoch - 3ms/step\n",
            "Epoch 138/200\n",
            "45/45 - 0s - loss: 50.0770 - accuracy: 0.5578 - val_loss: 98.4731 - val_accuracy: 0.5400 - 172ms/epoch - 4ms/step\n",
            "Epoch 139/200\n",
            "45/45 - 0s - loss: 47.2293 - accuracy: 0.5956 - val_loss: 97.6666 - val_accuracy: 0.5200 - 137ms/epoch - 3ms/step\n",
            "Epoch 140/200\n",
            "45/45 - 0s - loss: 46.7959 - accuracy: 0.5867 - val_loss: 100.9652 - val_accuracy: 0.5000 - 150ms/epoch - 3ms/step\n",
            "Epoch 141/200\n",
            "45/45 - 0s - loss: 50.1240 - accuracy: 0.5756 - val_loss: 94.9988 - val_accuracy: 0.5000 - 152ms/epoch - 3ms/step\n",
            "Epoch 142/200\n",
            "45/45 - 0s - loss: 48.0222 - accuracy: 0.6022 - val_loss: 95.1119 - val_accuracy: 0.4800 - 143ms/epoch - 3ms/step\n",
            "Epoch 143/200\n",
            "45/45 - 0s - loss: 46.9409 - accuracy: 0.5822 - val_loss: 96.1297 - val_accuracy: 0.5000 - 151ms/epoch - 3ms/step\n",
            "Epoch 144/200\n",
            "45/45 - 0s - loss: 48.3369 - accuracy: 0.5689 - val_loss: 94.5698 - val_accuracy: 0.4000 - 147ms/epoch - 3ms/step\n",
            "Epoch 145/200\n",
            "45/45 - 0s - loss: 47.5560 - accuracy: 0.5711 - val_loss: 92.4242 - val_accuracy: 0.5200 - 134ms/epoch - 3ms/step\n",
            "Epoch 146/200\n",
            "45/45 - 0s - loss: 46.7998 - accuracy: 0.5978 - val_loss: 91.2325 - val_accuracy: 0.5400 - 140ms/epoch - 3ms/step\n",
            "Epoch 147/200\n",
            "45/45 - 0s - loss: 46.3711 - accuracy: 0.5778 - val_loss: 91.3382 - val_accuracy: 0.4800 - 153ms/epoch - 3ms/step\n",
            "Epoch 148/200\n",
            "45/45 - 0s - loss: 48.8618 - accuracy: 0.5622 - val_loss: 90.6893 - val_accuracy: 0.4600 - 146ms/epoch - 3ms/step\n",
            "Epoch 149/200\n",
            "45/45 - 0s - loss: 46.9048 - accuracy: 0.5556 - val_loss: 89.1505 - val_accuracy: 0.5400 - 149ms/epoch - 3ms/step\n",
            "Epoch 150/200\n",
            "45/45 - 0s - loss: 48.7833 - accuracy: 0.5689 - val_loss: 95.3606 - val_accuracy: 0.5600 - 141ms/epoch - 3ms/step\n",
            "Epoch 151/200\n",
            "45/45 - 0s - loss: 46.3059 - accuracy: 0.5822 - val_loss: 94.0804 - val_accuracy: 0.4800 - 154ms/epoch - 3ms/step\n",
            "Epoch 152/200\n",
            "45/45 - 0s - loss: 49.0810 - accuracy: 0.5644 - val_loss: 87.2776 - val_accuracy: 0.4400 - 145ms/epoch - 3ms/step\n",
            "Epoch 153/200\n",
            "45/45 - 0s - loss: 48.0251 - accuracy: 0.5400 - val_loss: 89.5044 - val_accuracy: 0.4800 - 149ms/epoch - 3ms/step\n",
            "Epoch 154/200\n",
            "45/45 - 0s - loss: 47.7363 - accuracy: 0.5467 - val_loss: 102.2629 - val_accuracy: 0.4200 - 170ms/epoch - 4ms/step\n",
            "Epoch 155/200\n",
            "45/45 - 0s - loss: 45.1182 - accuracy: 0.5822 - val_loss: 88.6631 - val_accuracy: 0.4800 - 161ms/epoch - 4ms/step\n",
            "Epoch 156/200\n",
            "45/45 - 0s - loss: 47.1995 - accuracy: 0.5711 - val_loss: 88.9332 - val_accuracy: 0.4400 - 156ms/epoch - 3ms/step\n",
            "Epoch 157/200\n",
            "45/45 - 0s - loss: 42.6039 - accuracy: 0.5956 - val_loss: 84.3871 - val_accuracy: 0.5200 - 123ms/epoch - 3ms/step\n",
            "Epoch 158/200\n",
            "45/45 - 0s - loss: 42.9305 - accuracy: 0.5756 - val_loss: 84.3301 - val_accuracy: 0.4600 - 134ms/epoch - 3ms/step\n",
            "Epoch 159/200\n",
            "45/45 - 0s - loss: 42.5049 - accuracy: 0.5689 - val_loss: 84.4482 - val_accuracy: 0.5200 - 130ms/epoch - 3ms/step\n",
            "Epoch 160/200\n",
            "45/45 - 0s - loss: 40.6251 - accuracy: 0.6133 - val_loss: 86.5172 - val_accuracy: 0.3800 - 155ms/epoch - 3ms/step\n",
            "Epoch 161/200\n",
            "45/45 - 0s - loss: 43.4292 - accuracy: 0.5556 - val_loss: 88.3894 - val_accuracy: 0.3600 - 161ms/epoch - 4ms/step\n",
            "Epoch 162/200\n",
            "45/45 - 0s - loss: 41.2635 - accuracy: 0.5778 - val_loss: 82.5385 - val_accuracy: 0.4600 - 149ms/epoch - 3ms/step\n",
            "Epoch 163/200\n",
            "45/45 - 0s - loss: 40.5027 - accuracy: 0.5600 - val_loss: 81.4839 - val_accuracy: 0.4200 - 140ms/epoch - 3ms/step\n",
            "Epoch 164/200\n",
            "45/45 - 0s - loss: 44.1973 - accuracy: 0.5311 - val_loss: 83.8564 - val_accuracy: 0.3600 - 158ms/epoch - 4ms/step\n",
            "Epoch 165/200\n",
            "45/45 - 0s - loss: 40.6335 - accuracy: 0.5622 - val_loss: 88.5183 - val_accuracy: 0.4000 - 152ms/epoch - 3ms/step\n",
            "Epoch 166/200\n",
            "45/45 - 0s - loss: 39.7412 - accuracy: 0.5511 - val_loss: 82.1552 - val_accuracy: 0.4600 - 139ms/epoch - 3ms/step\n",
            "Epoch 167/200\n",
            "45/45 - 0s - loss: 39.2316 - accuracy: 0.5778 - val_loss: 79.7360 - val_accuracy: 0.4600 - 163ms/epoch - 4ms/step\n",
            "Epoch 168/200\n",
            "45/45 - 0s - loss: 38.0981 - accuracy: 0.5844 - val_loss: 86.0275 - val_accuracy: 0.3800 - 165ms/epoch - 4ms/step\n",
            "Epoch 169/200\n",
            "45/45 - 0s - loss: 36.3245 - accuracy: 0.5889 - val_loss: 79.9489 - val_accuracy: 0.5000 - 143ms/epoch - 3ms/step\n",
            "Epoch 170/200\n",
            "45/45 - 0s - loss: 37.6789 - accuracy: 0.5578 - val_loss: 79.1399 - val_accuracy: 0.4200 - 142ms/epoch - 3ms/step\n",
            "Epoch 171/200\n",
            "45/45 - 0s - loss: 41.2358 - accuracy: 0.5533 - val_loss: 86.0580 - val_accuracy: 0.3800 - 155ms/epoch - 3ms/step\n",
            "Epoch 172/200\n",
            "45/45 - 0s - loss: 38.9960 - accuracy: 0.5733 - val_loss: 82.6930 - val_accuracy: 0.4200 - 133ms/epoch - 3ms/step\n",
            "Epoch 173/200\n",
            "45/45 - 0s - loss: 36.7599 - accuracy: 0.5889 - val_loss: 75.5899 - val_accuracy: 0.4800 - 144ms/epoch - 3ms/step\n",
            "Epoch 174/200\n",
            "45/45 - 0s - loss: 37.4938 - accuracy: 0.5600 - val_loss: 80.5274 - val_accuracy: 0.4000 - 166ms/epoch - 4ms/step\n",
            "Epoch 175/200\n",
            "45/45 - 0s - loss: 38.0094 - accuracy: 0.5600 - val_loss: 76.5225 - val_accuracy: 0.4000 - 154ms/epoch - 3ms/step\n",
            "Epoch 176/200\n",
            "45/45 - 0s - loss: 38.4555 - accuracy: 0.5733 - val_loss: 81.8965 - val_accuracy: 0.4800 - 132ms/epoch - 3ms/step\n",
            "Epoch 177/200\n",
            "45/45 - 0s - loss: 36.8853 - accuracy: 0.5711 - val_loss: 77.8908 - val_accuracy: 0.4400 - 137ms/epoch - 3ms/step\n",
            "Epoch 178/200\n",
            "45/45 - 0s - loss: 38.2647 - accuracy: 0.5578 - val_loss: 78.1503 - val_accuracy: 0.4000 - 144ms/epoch - 3ms/step\n",
            "Epoch 179/200\n",
            "45/45 - 0s - loss: 39.2304 - accuracy: 0.5733 - val_loss: 81.7695 - val_accuracy: 0.5000 - 145ms/epoch - 3ms/step\n",
            "Epoch 180/200\n",
            "45/45 - 0s - loss: 35.8885 - accuracy: 0.5711 - val_loss: 73.7034 - val_accuracy: 0.4000 - 192ms/epoch - 4ms/step\n",
            "Epoch 181/200\n",
            "45/45 - 0s - loss: 38.8585 - accuracy: 0.5533 - val_loss: 75.2825 - val_accuracy: 0.4400 - 136ms/epoch - 3ms/step\n",
            "Epoch 182/200\n",
            "45/45 - 0s - loss: 34.3522 - accuracy: 0.6044 - val_loss: 71.8326 - val_accuracy: 0.4400 - 160ms/epoch - 4ms/step\n",
            "Epoch 183/200\n",
            "45/45 - 0s - loss: 36.2779 - accuracy: 0.5867 - val_loss: 72.8639 - val_accuracy: 0.4600 - 149ms/epoch - 3ms/step\n",
            "Epoch 184/200\n",
            "45/45 - 0s - loss: 35.5280 - accuracy: 0.5822 - val_loss: 71.8119 - val_accuracy: 0.4200 - 155ms/epoch - 3ms/step\n",
            "Epoch 185/200\n",
            "45/45 - 0s - loss: 36.2877 - accuracy: 0.5756 - val_loss: 74.2071 - val_accuracy: 0.5400 - 142ms/epoch - 3ms/step\n",
            "Epoch 186/200\n",
            "45/45 - 0s - loss: 34.6614 - accuracy: 0.5733 - val_loss: 76.5987 - val_accuracy: 0.4800 - 169ms/epoch - 4ms/step\n",
            "Epoch 187/200\n",
            "45/45 - 0s - loss: 34.3460 - accuracy: 0.5600 - val_loss: 69.2268 - val_accuracy: 0.4200 - 170ms/epoch - 4ms/step\n",
            "Epoch 188/200\n",
            "45/45 - 0s - loss: 36.6612 - accuracy: 0.5822 - val_loss: 75.7564 - val_accuracy: 0.5200 - 148ms/epoch - 3ms/step\n",
            "Epoch 189/200\n",
            "45/45 - 0s - loss: 34.5145 - accuracy: 0.5689 - val_loss: 76.1401 - val_accuracy: 0.4600 - 164ms/epoch - 4ms/step\n",
            "Epoch 190/200\n",
            "45/45 - 0s - loss: 34.4579 - accuracy: 0.5867 - val_loss: 76.3907 - val_accuracy: 0.3400 - 142ms/epoch - 3ms/step\n",
            "Epoch 191/200\n",
            "45/45 - 0s - loss: 33.6302 - accuracy: 0.5556 - val_loss: 75.4857 - val_accuracy: 0.4400 - 126ms/epoch - 3ms/step\n",
            "Epoch 192/200\n",
            "45/45 - 0s - loss: 35.0779 - accuracy: 0.5822 - val_loss: 65.3902 - val_accuracy: 0.5000 - 148ms/epoch - 3ms/step\n",
            "Epoch 193/200\n",
            "45/45 - 0s - loss: 31.0376 - accuracy: 0.5622 - val_loss: 73.2458 - val_accuracy: 0.4400 - 178ms/epoch - 4ms/step\n",
            "Epoch 194/200\n",
            "45/45 - 0s - loss: 34.2356 - accuracy: 0.5711 - val_loss: 75.7738 - val_accuracy: 0.4400 - 147ms/epoch - 3ms/step\n",
            "Epoch 195/200\n",
            "45/45 - 0s - loss: 33.6940 - accuracy: 0.5822 - val_loss: 76.1008 - val_accuracy: 0.4000 - 168ms/epoch - 4ms/step\n",
            "Epoch 196/200\n",
            "45/45 - 0s - loss: 34.6501 - accuracy: 0.5733 - val_loss: 74.3481 - val_accuracy: 0.3000 - 137ms/epoch - 3ms/step\n",
            "Epoch 197/200\n",
            "45/45 - 0s - loss: 33.8337 - accuracy: 0.5889 - val_loss: 79.2285 - val_accuracy: 0.3200 - 140ms/epoch - 3ms/step\n",
            "Epoch 198/200\n",
            "45/45 - 0s - loss: 33.6667 - accuracy: 0.5622 - val_loss: 75.2617 - val_accuracy: 0.4200 - 156ms/epoch - 3ms/step\n",
            "Epoch 199/200\n",
            "45/45 - 0s - loss: 32.6054 - accuracy: 0.5911 - val_loss: 77.7878 - val_accuracy: 0.3000 - 152ms/epoch - 3ms/step\n",
            "Epoch 200/200\n",
            "45/45 - 0s - loss: 32.7337 - accuracy: 0.5733 - val_loss: 72.9229 - val_accuracy: 0.4600 - 171ms/epoch - 4ms/step\n"
          ]
        },
        {
          "output_type": "execute_result",
          "data": {
            "text/plain": [
              "<keras.callbacks.History at 0x7f64f8949c10>"
            ]
          },
          "metadata": {},
          "execution_count": 220
        }
      ]
    }
  ]
}